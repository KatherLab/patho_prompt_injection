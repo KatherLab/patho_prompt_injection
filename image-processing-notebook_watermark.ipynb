{
 "cells": [
  {
   "cell_type": "markdown",
   "metadata": {},
   "source": [
    "# Image Processing with Labels\n",
    "\n",
    "This notebook processes patient images by adding labels based on the information in an Excel file."
   ]
  },
  {
   "cell_type": "code",
   "execution_count": 1,
   "metadata": {},
   "outputs": [],
   "source": [
    "import os\n",
    "import pandas as pd\n",
    "from PIL import Image\n",
    "import io\n",
    "import cairosvg\n",
    "import logging\n",
    "import numpy as np\n",
    "from tqdm.notebook import tqdm  # Better progress tracking in notebooks\n",
    "from concurrent.futures import ThreadPoolExecutor  # Using threads instead of processes\n",
    "import warnings\n",
    "warnings.filterwarnings('ignore')\n",
    "\n",
    "logging.basicConfig(level=logging.INFO)\n",
    "logger = logging.getLogger(__name__)\n",
    "\n",
    "# Set up paths\n",
    "path = \"C:/Users/janni/OneDrive/Dokumente/PostDoc/Projects/Patho Prompt Injection/Second_Dataset\"\n",
    "input_file = os.path.join(path, \"Patients_2_Metadata_long.xlsx\")\n",
    "output_folder = os.path.join(path, \"output_images\")\n",
    "os.makedirs(output_folder, exist_ok=True)"
   ]
  },
  {
   "cell_type": "code",
   "execution_count": 2,
   "metadata": {},
   "outputs": [
    {
     "name": "stdout",
     "output_type": "stream",
     "text": [
      "All SVG files found successfully.\n"
     ]
    }
   ],
   "source": [
    "def create_label_dict(path):\n",
    "    def svg_path(filename):\n",
    "        return os.path.join(path, f\"{filename}.svg\")\n",
    "    \n",
    "    label_dict = {\n",
    "        \"Ovary\": svg_path(\"Ovary\"),\n",
    "        \"Prostate\": svg_path(\"Prostate\"),\n",
    "        \n",
    "    }\n",
    "    \n",
    "    missing_files = [label for label, file_path in label_dict.items() if not os.path.exists(file_path)]\n",
    "    if missing_files:\n",
    "        print(f\"Warning: The following SVG files are missing: {', '.join(missing_files)}\")\n",
    "    else:\n",
    "        print(\"All SVG files found successfully.\")\n",
    "    \n",
    "    return label_dict\n",
    "\n",
    "# Create the label dictionary\n",
    "label_dict = create_label_dict(path)"
   ]
  },
  {
   "cell_type": "code",
   "execution_count": 3,
   "metadata": {},
   "outputs": [],
   "source": [
    "def find_whitest_area(image, grid_size=(3, 3)):\n",
    "    \"\"\"Find the whitest area in the image using a grid-based approach.\"\"\"\n",
    "    # Convert image to numpy array if it's not already\n",
    "    if isinstance(image, Image.Image):\n",
    "        image = np.array(image)\n",
    "    \n",
    "    # If image is RGBA, convert to RGB by removing alpha channel\n",
    "    if image.shape[2] == 4:\n",
    "        image = image[:,:,:3]\n",
    "    \n",
    "    # Calculate the \"whiteness\" of each pixel (higher value = whiter)\n",
    "    whiteness = np.mean(image, axis=2)\n",
    "    \n",
    "    height, width = whiteness.shape\n",
    "    cell_height, cell_width = height // grid_size[0], width // grid_size[1]\n",
    "    \n",
    "    max_whiteness = 0\n",
    "    best_cell = (0, 0)\n",
    "    \n",
    "    for i in range(grid_size[0]):\n",
    "        for j in range(grid_size[1]):\n",
    "            cell = whiteness[i*cell_height:(i+1)*cell_height, j*cell_width:(j+1)*cell_width]\n",
    "            cell_whiteness = np.mean(cell)\n",
    "            if cell_whiteness > max_whiteness:\n",
    "                max_whiteness = cell_whiteness\n",
    "                best_cell = (i, j)\n",
    "    \n",
    "    # Calculate the position for the label within the whitest cell\n",
    "    x = best_cell[1] * cell_width\n",
    "    y = best_cell[0] * cell_height\n",
    "    \n",
    "    return x, y, cell_width, cell_height"
   ]
  },
  {
   "cell_type": "code",
   "execution_count": 6,
   "metadata": {},
   "outputs": [],
   "source": [
    "\n",
    "\n",
    "\n",
    "def compress_image(image, max_size_bytes=3*1024*1024):\n",
    "    \"\"\"Compress image to ensure it's under the specified max size.\"\"\"\n",
    "    quality = 90\n",
    "    buffer = io.BytesIO()\n",
    "    \n",
    "    # First try basic compression\n",
    "    image.save(buffer, format='PNG', optimize=True, quality=quality)\n",
    "    size = buffer.tell()\n",
    "    \n",
    "    # If image is already small enough, return original\n",
    "    if size <= max_size_bytes:\n",
    "        buffer.seek(0)\n",
    "        return Image.open(buffer)\n",
    "    \n",
    "    # Calculate target size reduction ratio\n",
    "    ratio = (max_size_bytes / size) ** 0.5\n",
    "    new_width = int(image.width * ratio)\n",
    "    new_height = int(image.height * ratio)\n",
    "    \n",
    "    # Resize image to target size\n",
    "    resized_image = image.resize((new_width, new_height), Image.LANCZOS)\n",
    "    \n",
    "    # Compress resized image\n",
    "    buffer.seek(0)\n",
    "    buffer.truncate(0)\n",
    "    resized_image.save(buffer, format='PNG', optimize=True, quality=95)\n",
    "    \n",
    "    buffer.seek(0)\n",
    "    return Image.open(buffer)\n",
    "\n",
    "def process_single_image(args):\n",
    "    \"\"\"Process a single image with all parameters packed in args.\"\"\"\n",
    "    row, label_dict, base_path, output_folder, params = args\n",
    "    \n",
    "    image_path = f\"{base_path}/{row['Study_ID']}.png\"\n",
    "    output_path = os.path.join(output_folder, f\"{row['Study_ID']}_{row['Label_Type']}.png\")\n",
    "    \n",
    "    try:\n",
    "        base_image = Image.open(image_path).convert('RGBA')\n",
    "        \n",
    "        if row['Label_Type'] != 'none':\n",
    "            prompt = row['True_Prompt'] if row['Label_Type'] == 'true' else row['False_Prompt']\n",
    "            svg_path = label_dict.get(prompt)\n",
    "            \n",
    "            if svg_path and os.path.exists(svg_path):\n",
    "                label_width = max(1, int(base_image.width * params['label_width_pct']))\n",
    "                label_height = max(1, int(base_image.height * params['label_height_pct']))\n",
    "                \n",
    "                png_data = cairosvg.svg2png(url=svg_path, output_width=label_width, output_height=label_height)\n",
    "                label_image = Image.open(io.BytesIO(png_data)).convert('RGBA')\n",
    "\n",
    "                # Apply alpha to label\n",
    "                if params.get('alpha', 100) != 100:\n",
    "                    label_data = list(label_image.getdata())\n",
    "                    new_data = [(r, g, b, int(a * params['alpha'] / 100)) for r, g, b, a in label_data]\n",
    "                    label_image.putdata(new_data)\n",
    "\n",
    "                new_image = base_image.copy()\n",
    "                \n",
    "                if params['use_whitespace']:\n",
    "                    label_x, label_y, _, _ = find_whitest_area(base_image)\n",
    "                else:\n",
    "                    label_x = int(base_image.width * params['label_x_pct'])\n",
    "                    label_y = int(base_image.height * params['label_y_pct'])\n",
    "                \n",
    "                label_x = min(label_x, base_image.width - label_width)\n",
    "                label_y = min(label_y, base_image.height - label_height)\n",
    "                \n",
    "                new_image.paste(label_image, (label_x, label_y), label_image)\n",
    "            else:\n",
    "                new_image = base_image\n",
    "        else:\n",
    "            new_image = base_image\n",
    "            \n",
    "        # Compress and save\n",
    "        compressed_image = compress_image(new_image)\n",
    "        compressed_image.save(output_path, 'PNG')\n",
    "        \n",
    "        return True, row['Study_ID']\n",
    "    except Exception as e:\n",
    "        return False, f\"Error processing {row['Study_ID']}: {str(e)}\"\n",
    "        \n",
    "def process_images_batch(df, label_dict, base_path, output_folder, \n",
    "                        batch_size=4, limit=None, **kwargs):\n",
    "    \"\"\"Process images in batches using ThreadPoolExecutor.\"\"\"\n",
    "    if limit:\n",
    "        df = df.head(limit)\n",
    "\n",
    "    # Create alpha-specific output folder\n",
    "    alpha_value = kwargs.get('alpha', 100)\n",
    "    output_folder = f\"{output_folder}_a{alpha_value}\"\n",
    "    os.makedirs(output_folder, exist_ok=True)\n",
    "    \n",
    "    # Prepare parameters\n",
    "    params = {\n",
    "        'label_width_pct': kwargs.get('label_width_pct', 0.2),\n",
    "        'label_height_pct': kwargs.get('label_height_pct', 0.1),\n",
    "        'label_x_pct': kwargs.get('label_x_pct', 0.05),\n",
    "        'label_y_pct': kwargs.get('label_y_pct', 0.05),\n",
    "        'use_whitespace': kwargs.get('use_whitespace', False),\n",
    "        'alpha': alpha_value\n",
    "    }\n",
    "    \n",
    "    # Prepare arguments for each image\n",
    "    args_list = [(row, label_dict, base_path, output_folder, params) \n",
    "                 for _, row in df.iterrows()]\n",
    "    \n",
    "    # Process in batches\n",
    "    with tqdm(total=len(df), desc=\"Processing images\") as pbar:\n",
    "        for i in range(0, len(args_list), batch_size):\n",
    "            batch = args_list[i:i + batch_size]\n",
    "            \n",
    "            with ThreadPoolExecutor(max_workers=batch_size) as executor:\n",
    "                results = list(executor.map(process_single_image, batch))\n",
    "            \n",
    "            # Update progress and log results\n",
    "            for success, message in results:\n",
    "                if not success:\n",
    "                    logger.warning(message)\n",
    "            \n",
    "            pbar.update(len(batch))\n",
    "    \n",
    "    logger.info(f\"Image processing complete. Processed {len(df)} images.\")\n",
    "\n",
    "\n",
    "\n",
    "\n"
   ]
  },
  {
   "cell_type": "code",
   "execution_count": 14,
   "metadata": {},
   "outputs": [
    {
     "data": {
      "application/vnd.jupyter.widget-view+json": {
       "model_id": "5d5e2ef5855647959ab5f2cda70341c7",
       "version_major": 2,
       "version_minor": 0
      },
      "text/plain": [
       "Processing images:   0%|          | 0/90 [00:00<?, ?it/s]"
      ]
     },
     "metadata": {},
     "output_type": "display_data"
    },
    {
     "name": "stderr",
     "output_type": "stream",
     "text": [
      "INFO:__main__:Image processing complete. Processed 90 images.\n"
     ]
    }
   ],
   "source": [
    "df = pd.read_excel(input_file)\n",
    "process_images_batch(df, label_dict, path, output_folder, \n",
    "                    batch_size=12,  # Adjust based on your system\n",
    "                    limit=None,    # Set to None to process all images\n",
    "                    label_width_pct=0.3, \n",
    "                    label_height_pct=0.2,\n",
    "                    label_x_pct=0.99, \n",
    "                    label_y_pct=0.05,\n",
    "                    use_whitespace=False,\n",
    "                    alpha=100)\n"
   ]
  },
  {
   "cell_type": "code",
   "execution_count": 12,
   "metadata": {},
   "outputs": [
    {
     "data": {
      "application/vnd.jupyter.widget-view+json": {
       "model_id": "a70c4e2edb9f438e88e716e6feef3795",
       "version_major": 2,
       "version_minor": 0
      },
      "text/plain": [
       "Processing images:   0%|          | 0/6 [00:00<?, ?it/s]"
      ]
     },
     "metadata": {},
     "output_type": "display_data"
    },
    {
     "name": "stderr",
     "output_type": "stream",
     "text": [
      "INFO:__main__:Image processing complete. Processed 6 images.\n"
     ]
    }
   ],
   "source": [
    "df = pd.read_excel(input_file)\n",
    "process_images_batch(df, label_dict, path, output_folder, \n",
    "                    batch_size=12,  # Adjust based on your system\n",
    "                    limit=6,    # Set to None to process all images\n",
    "                    label_width_pct=0.3, \n",
    "                    label_height_pct=0.2,\n",
    "                    label_x_pct=0.99, \n",
    "                    label_y_pct=0.05,\n",
    "                    use_whitespace=False,\n",
    "                    alpha=50)\n"
   ]
  }
 ],
 "metadata": {
  "kernelspec": {
   "display_name": "patho_prompt-inj",
   "language": "python",
   "name": "python3"
  },
  "language_info": {
   "codemirror_mode": {
    "name": "ipython",
    "version": 3
   },
   "file_extension": ".py",
   "mimetype": "text/x-python",
   "name": "python",
   "nbconvert_exporter": "python",
   "pygments_lexer": "ipython3",
   "version": "3.11.10"
  }
 },
 "nbformat": 4,
 "nbformat_minor": 4
}
